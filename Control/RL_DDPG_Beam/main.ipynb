{
 "cells": [
  {
   "cell_type": "code",
   "execution_count": null,
   "metadata": {},
   "outputs": [],
   "source": [
    "!pip install -e ."
   ]
  },
  {
   "cell_type": "code",
   "execution_count": null,
   "metadata": {},
   "outputs": [],
   "source": [
    "import gymnasium as gym\n",
    "import numpy as np\n",
    "import matplotlib.pyplot as plt\n",
    "from env.beam_env.BeamEnvironment import BeamEnvironment\n",
    "import torch\n",
    "from Agent import DDPG\n",
    "\n",
    "print(gym.envs.registry)\n",
    "\n",
    "env_name = 'BeamEnvironment-v0'\n",
    "env = gym.make(env_name)\n",
    "\n",
    "state_dim = env.observation_space.shape[0]\n",
    "action_dim = env.action_space.shape[0]\n",
    "max_action = float(env.action_space.high[0])\n",
    "\n",
    "agent = DDPG(state_dim, action_dim, max_action)\n",
    "episodes = 5000\n",
    "max_steps = 500\n",
    "batch_size = 64\n",
    "\n",
    "exploration_decay = 0.999\n",
    "noise_variance = 3.5\n",
    "episode_rewards = []\n",
    "\n",
    "agent.actor.load_state_dict(torch.load('actor.pth'))\n",
    "agent.actor_target.load_state_dict(torch.load('actor_target.pth'))\n",
    "agent.critic.load_state_dict(torch.load('critic.pth'))\n",
    "agent.critic_target.load_state_dict(torch.load('critic_target.pth'))\n",
    "\n",
    "# next idea :\n",
    "# high negative reward on high displacements and velocities (when it dies)"
   ]
  },
  {
   "cell_type": "code",
   "execution_count": null,
   "metadata": {},
   "outputs": [],
   "source": [
    "# state = env.reset()\n",
    "# action_sequence = [-11.0, -20.0, -26.0, -39.0, -49.0, -64.0, -84.0, -108.0, -136.0, -159.0, -180.0]\n",
    "# for action in action_sequence:\n",
    "#     state, _, _, _ = env.step([action])"
   ]
  },
  {
   "cell_type": "code",
   "execution_count": null,
   "metadata": {},
   "outputs": [],
   "source": [
    "# import matplotlib.pyplot as plt\n",
    "# plt.plot(np.linspace(0,1,100),state[0:200:2])\n",
    "# plt.ylim(-5,5)\n",
    "# plt.show()\n",
    "\n",
    "# print(np.max(state[0:200]))\n",
    "# print(np.where(state[0:200]==np.max(state[0:200])))"
   ]
  },
  {
   "cell_type": "code",
   "execution_count": null,
   "metadata": {},
   "outputs": [],
   "source": [
    "episodes = 300\n",
    "for episode in range(episodes):\n",
    "    state = env.reset()\n",
    "    episode_reward = 0\n",
    "    for step in range(max_steps):\n",
    "        action = agent.select_action(np.array(state), noise=noise_variance)\n",
    "        print(action)\n",
    "        next_state, reward, done, _ = env.step(action)\n",
    "        print('state:',np.max(np.abs(next_state[0:200:2])),np.max(np.abs(next_state[200::2])),f'episode:{episode}, step:{step}, reward:{episode_reward}')\n",
    "        # print(next_state)\n",
    "        # gg\n",
    "        agent.replay_buffer.add((state, action, next_state, reward, float(not done)))\n",
    "        state = next_state\n",
    "        episode_reward += reward\n",
    "\n",
    "        if len(agent.replay_buffer.storage) > batch_size:\n",
    "            agent.train(batch_size)\n",
    "\n",
    "        if done:\n",
    "            print('step',step)\n",
    "            break\n",
    "\n",
    "    noise_variance = exploration_decay * noise_variance\n",
    "    # agent.reset_noise(sigma=noise_variance)\n",
    "    episode_rewards.append(episode_reward)\n",
    "    print(f\"Episode: {episode + 1}, Total Reward: {episode_reward}\")\n",
    "    if episode_reward>0:\n",
    "        print('yay')\n",
    "\n",
    "    if episode % 10==0:\n",
    "        torch.save(agent.actor_target.state_dict(), 'actor_target.pth')\n",
    "        torch.save(agent.actor.state_dict(), 'actor.pth')\n",
    "        torch.save(agent.critic_target.state_dict(), 'critic_target.pth')\n",
    "        torch.save(agent.critic.state_dict(), 'critic.pth')\n"
   ]
  },
  {
   "cell_type": "code",
   "execution_count": null,
   "metadata": {},
   "outputs": [],
   "source": [
    "plt.plot(episode_rewards)"
   ]
  },
  {
   "cell_type": "code",
   "execution_count": null,
   "metadata": {},
   "outputs": [],
   "source": [
    "# inference (testing)\n",
    "traced_node_displacements = []\n",
    "traced_node_velocity = []\n",
    "step_rewards = []\n",
    "state = env.reset()\n",
    "traced_node_displacements.append(state[0:200:2][-1])\n",
    "traced_node_velocity.append(state[200:-1:2][-1])\n",
    "max_steps = 500\n",
    "for step in range(max_steps):\n",
    "    action = agent.select_action(np.array(state), noise=0.01)\n",
    "    next_state, reward, done, _ = env.step(action)\n",
    "    traced_node_displacements.append(next_state[0:200:2][-1]) # displacement of the last node\n",
    "    traced_node_velocity.append(next_state[200:-1:2][-1]) # velocity of the last node\n",
    "    state = next_state\n",
    "    step_rewards.append(reward)\n",
    "    # if done:\n",
    "    #     break"
   ]
  },
  {
   "cell_type": "code",
   "execution_count": null,
   "metadata": {},
   "outputs": [],
   "source": [
    "plt.plot(traced_node_displacements)\n",
    "plt.xlabel('Step')\n",
    "plt.ylabel('Displacement (m)')\n",
    "plt.show()\n",
    "plt.plot(step_rewards)\n",
    "plt.show()"
   ]
  }
 ],
 "metadata": {
  "kernelspec": {
   "display_name": "base",
   "language": "python",
   "name": "python3"
  },
  "language_info": {
   "codemirror_mode": {
    "name": "ipython",
    "version": 3
   },
   "file_extension": ".py",
   "mimetype": "text/x-python",
   "name": "python",
   "nbconvert_exporter": "python",
   "pygments_lexer": "ipython3",
   "version": "3.11.0"
  },
  "vscode": {
   "interpreter": {
    "hash": "263930470851f494f0ed2879c35b57985588df20f9e529b86e97dd5eb9ddc466"
   }
  }
 },
 "nbformat": 4,
 "nbformat_minor": 2
}
